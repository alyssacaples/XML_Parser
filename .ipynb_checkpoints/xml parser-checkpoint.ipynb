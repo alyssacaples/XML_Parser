{
 "cells": [
  {
   "cell_type": "code",
   "execution_count": null,
   "id": "dcb3e4bf",
   "metadata": {},
   "outputs": [],
   "source": [
    "# import xml.etree.ElementTree as ET\n",
    "\n",
    "# import numpy as np\n",
    "# import cv2\n",
    "# import matplotlib.pyplot as plt"
   ]
  },
  {
   "cell_type": "code",
   "execution_count": null,
   "id": "b3af022d",
   "metadata": {},
   "outputs": [],
   "source": [
    "tree = ET.parse('annotations.xml')\n",
    "\n",
    "root = tree.getroot()"
   ]
  },
  {
   "cell_type": "code",
   "execution_count": null,
   "id": "1277904f",
   "metadata": {},
   "outputs": [],
   "source": [
    "for child in root.iter('polyline'):\n",
    "    print(child.attrib)"
   ]
  },
  {
   "cell_type": "code",
   "execution_count": null,
   "id": "96bb15ca",
   "metadata": {},
   "outputs": [],
   "source": [
    "# img = cv2.imread('Snap_Speed3_0_0.jpg')\n",
    "\n",
    "# points = np.array([[160, 130], [350, 130], [250, 300]])\n",
    "\n",
    "# cv2.fillPoly(img, pts=[points], color=(255, 0, 0))\n",
    "  \n",
    "# # Displaying the image\n",
    "# cv2.imshow(\"filled polygon\", img)"
   ]
  },
  {
   "cell_type": "code",
   "execution_count": null,
   "id": "4851ffef",
   "metadata": {},
   "outputs": [],
   "source": [
    "pip uninstall opencv-python "
   ]
  },
  {
   "cell_type": "code",
   "execution_count": null,
   "id": "b27fefac",
   "metadata": {},
   "outputs": [],
   "source": [
    "pip install opencv-python"
   ]
  }
 ],
 "metadata": {
  "kernelspec": {
   "display_name": "Python 3 (ipykernel)",
   "language": "python",
   "name": "python3"
  },
  "language_info": {
   "codemirror_mode": {
    "name": "ipython",
    "version": 3
   },
   "file_extension": ".py",
   "mimetype": "text/x-python",
   "name": "python",
   "nbconvert_exporter": "python",
   "pygments_lexer": "ipython3",
   "version": "3.8.5"
  }
 },
 "nbformat": 4,
 "nbformat_minor": 5
}
